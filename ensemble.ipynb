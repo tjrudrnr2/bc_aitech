{
  "cells": [
    {
      "cell_type": "markdown",
      "metadata": {
        "id": "view-in-github",
        "colab_type": "text"
      },
      "source": [
        "<a href=\"https://colab.research.google.com/github/tjrudrnr2/Paper/blob/main/ensemble.ipynb\" target=\"_parent\"><img src=\"https://colab.research.google.com/assets/colab-badge.svg\" alt=\"Open In Colab\"/></a>"
      ]
    },
    {
      "cell_type": "code",
      "execution_count": null,
      "metadata": {
        "id": "QsER9oAVVCxG",
        "outputId": "f8ed1e97-b3a1-4552-edef-6291e6ce2317"
      },
      "outputs": [
        {
          "name": "stdout",
          "output_type": "stream",
          "text": [
            "Requirement already satisfied: ensemble_boxes in /root/anaconda3/envs/rcnn/lib/python3.7/site-packages (1.0.8)\n",
            "Requirement already satisfied: pandas in /root/anaconda3/envs/rcnn/lib/python3.7/site-packages (from ensemble_boxes) (1.3.5)\n",
            "Requirement already satisfied: numpy in /root/anaconda3/envs/rcnn/lib/python3.7/site-packages (from ensemble_boxes) (1.21.2)\n",
            "Requirement already satisfied: numba in /root/anaconda3/envs/rcnn/lib/python3.7/site-packages (from ensemble_boxes) (0.55.1)\n",
            "Requirement already satisfied: llvmlite<0.39,>=0.38.0rc1 in /root/anaconda3/envs/rcnn/lib/python3.7/site-packages (from numba->ensemble_boxes) (0.38.0)\n",
            "Requirement already satisfied: setuptools in /root/anaconda3/envs/rcnn/lib/python3.7/site-packages (from numba->ensemble_boxes) (58.0.4)\n",
            "Requirement already satisfied: pytz>=2017.3 in /root/anaconda3/envs/rcnn/lib/python3.7/site-packages (from pandas->ensemble_boxes) (2021.3)\n",
            "Requirement already satisfied: python-dateutil>=2.7.3 in /root/anaconda3/envs/rcnn/lib/python3.7/site-packages (from pandas->ensemble_boxes) (2.8.2)\n",
            "Requirement already satisfied: six>=1.5 in /root/anaconda3/envs/rcnn/lib/python3.7/site-packages (from python-dateutil>=2.7.3->pandas->ensemble_boxes) (1.16.0)\n",
            "\u001b[33mWARNING: Running pip as the 'root' user can result in broken permissions and conflicting behaviour with the system package manager. It is recommended to use a virtual environment instead: https://pip.pypa.io/warnings/venv\u001b[0m\n"
          ]
        }
      ],
      "source": [
        "!pip install ensemble_boxes"
      ]
    },
    {
      "cell_type": "code",
      "execution_count": null,
      "metadata": {
        "id": "WpkZsk0TVCxb"
      },
      "outputs": [],
      "source": [
        "import pandas as pd\n",
        "from ensemble_boxes import *\n",
        "import numpy as np\n",
        "from pycocotools.coco import COCO"
      ]
    },
    {
      "cell_type": "code",
      "execution_count": null,
      "metadata": {
        "id": "oFHrKNydVCxe"
      },
      "outputs": [],
      "source": [
        "# ensemble csv files\n",
        "submission_files = ['../../sample_submission/faster_rcnn_torchvision_submission.csv',\n",
        "                   '../../sample_submission/faster_rcnn_mmdetection_submission.csv'] # submission lists\n",
        "submission_df = [pd.read_csv(file) for file in submission_files]"
      ]
    },
    {
      "cell_type": "code",
      "execution_count": null,
      "metadata": {
        "id": "gCUBbDXeVCxg"
      },
      "outputs": [],
      "source": [
        "image_ids = submission_df[0]['image_id'].tolist()"
      ]
    },
    {
      "cell_type": "code",
      "execution_count": null,
      "metadata": {
        "id": "UumJ_18PVCxi",
        "outputId": "0e543609-49f7-4618-d6c8-41547ec3320a"
      },
      "outputs": [
        {
          "name": "stdout",
          "output_type": "stream",
          "text": [
            "loading annotations into memory...\n",
            "Done (t=0.01s)\n",
            "creating index...\n",
            "index created!\n"
          ]
        }
      ],
      "source": [
        "# ensemble 할 file의 image 정보를 불러오기 위한 json\n",
        "annotation = '../../dataset/test.json'\n",
        "coco = COCO(annotation)"
      ]
    },
    {
      "cell_type": "code",
      "execution_count": null,
      "metadata": {
        "id": "SMbNgMW2VCxk"
      },
      "outputs": [],
      "source": [
        "prediction_strings = []\n",
        "file_names = []\n",
        "# ensemble 시 설정할 iou threshold 이 부분을 바꿔가며 대회 metric에 알맞게 적용해봐요!\n",
        "iou_thr = 0.4\n",
        "\n",
        "# 각 image id 별로 submission file에서 box좌표 추출\n",
        "for i, image_id in enumerate(image_ids):\n",
        "    prediction_string = ''\n",
        "    boxes_list = []\n",
        "    scores_list = []\n",
        "    labels_list = []\n",
        "    image_info = coco.loadImgs(i)[0]\n",
        "#     각 submission file 별로 prediction box좌표 불러오기\n",
        "    for df in submission_df:\n",
        "        predict_string = df[df['image_id'] == image_id]['PredictionString'].tolist()[0]\n",
        "        predict_list = str(predict_string).split()\n",
        "        \n",
        "        if len(predict_list)==0 or len(predict_list)==1:\n",
        "            continue\n",
        "            \n",
        "        predict_list = np.reshape(predict_list, (-1, 6))\n",
        "        box_list = []\n",
        "        \n",
        "        for box in predict_list[:, 2:6].tolist():\n",
        "            box[0] = float(box[0]) / image_info['width']\n",
        "            box[1] = float(box[1]) / image_info['height']\n",
        "            box[2] = float(box[2]) / image_info['width']\n",
        "            box[3] = float(box[3]) / image_info['height']\n",
        "            box_list.append(box)\n",
        "            \n",
        "        boxes_list.append(box_list)\n",
        "        scores_list.append(list(map(float, predict_list[:, 1].tolist())))\n",
        "        labels_list.append(list(map(int, predict_list[:, 0].tolist())))\n",
        "    \n",
        "#     예측 box가 있다면 이를 ensemble 수행\n",
        "    if len(boxes_list):\n",
        "        boxes, scores, labels = nms(boxes_list, scores_list, labels_list, iou_thr=iou_thr)\n",
        "        for box, score, label in zip(boxes, scores, labels):\n",
        "            prediction_string += str(label) + ' ' + str(score) + ' ' + str(box[0] * image_info['width']) + ' ' + str(box[1] * image_info['height']) + ' ' + str(box[2] * image_info['width']) + ' ' + str(box[3] * image_info['height']) + ' '\n",
        "    \n",
        "    prediction_strings.append(prediction_string)\n",
        "    file_names.append(image_id)"
      ]
    },
    {
      "cell_type": "code",
      "execution_count": null,
      "metadata": {
        "id": "1nBySG0dVCxn",
        "outputId": "28599d4d-5149-4390-855b-66cb840701ce"
      },
      "outputs": [
        {
          "data": {
            "text/html": [
              "<div>\n",
              "<style scoped>\n",
              "    .dataframe tbody tr th:only-of-type {\n",
              "        vertical-align: middle;\n",
              "    }\n",
              "\n",
              "    .dataframe tbody tr th {\n",
              "        vertical-align: top;\n",
              "    }\n",
              "\n",
              "    .dataframe thead th {\n",
              "        text-align: right;\n",
              "    }\n",
              "</style>\n",
              "<table border=\"1\" class=\"dataframe\">\n",
              "  <thead>\n",
              "    <tr style=\"text-align: right;\">\n",
              "      <th></th>\n",
              "      <th>PredictionString</th>\n",
              "      <th>image_id</th>\n",
              "    </tr>\n",
              "  </thead>\n",
              "  <tbody>\n",
              "    <tr>\n",
              "      <th>0</th>\n",
              "      <td>0 0.24645094573497772 242.52542114257812 683.2...</td>\n",
              "      <td>test/0000.jpg</td>\n",
              "    </tr>\n",
              "    <tr>\n",
              "      <th>1</th>\n",
              "      <td>0 0.45437225699424744 713.5231323242188 648.64...</td>\n",
              "      <td>test/0001.jpg</td>\n",
              "    </tr>\n",
              "    <tr>\n",
              "      <th>2</th>\n",
              "      <td>0 0.3595143258571625 655.670166015625 288.0221...</td>\n",
              "      <td>test/0002.jpg</td>\n",
              "    </tr>\n",
              "    <tr>\n",
              "      <th>3</th>\n",
              "      <td>0 0.45486128330230713 0.0 442.3086242675781 17...</td>\n",
              "      <td>test/0003.jpg</td>\n",
              "    </tr>\n",
              "    <tr>\n",
              "      <th>4</th>\n",
              "      <td>0 0.6036637425422668 193.4078826904297 346.774...</td>\n",
              "      <td>test/0004.jpg</td>\n",
              "    </tr>\n",
              "  </tbody>\n",
              "</table>\n",
              "</div>"
            ],
            "text/plain": [
              "                                    PredictionString       image_id\n",
              "0  0 0.24645094573497772 242.52542114257812 683.2...  test/0000.jpg\n",
              "1  0 0.45437225699424744 713.5231323242188 648.64...  test/0001.jpg\n",
              "2  0 0.3595143258571625 655.670166015625 288.0221...  test/0002.jpg\n",
              "3  0 0.45486128330230713 0.0 442.3086242675781 17...  test/0003.jpg\n",
              "4  0 0.6036637425422668 193.4078826904297 346.774...  test/0004.jpg"
            ]
          },
          "execution_count": 7,
          "metadata": {},
          "output_type": "execute_result"
        }
      ],
      "source": [
        "submission = pd.DataFrame()\n",
        "submission['PredictionString'] = prediction_strings\n",
        "submission['image_id'] = file_names\n",
        "submission.to_csv('../../sample_submission/submission_ensemble.csv')\n",
        "\n",
        "submission.head()"
      ]
    }
  ],
  "metadata": {
    "kernelspec": {
      "display_name": "Python 3 (ipykernel)",
      "language": "python",
      "name": "python3"
    },
    "language_info": {
      "codemirror_mode": {
        "name": "ipython",
        "version": 3
      },
      "file_extension": ".py",
      "mimetype": "text/x-python",
      "name": "python",
      "nbconvert_exporter": "python",
      "pygments_lexer": "ipython3",
      "version": "3.7.11"
    },
    "colab": {
      "name": "ensemble.ipynb",
      "provenance": [],
      "collapsed_sections": [],
      "include_colab_link": true
    }
  },
  "nbformat": 4,
  "nbformat_minor": 0
}